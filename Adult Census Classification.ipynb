{
 "cells": [
  {
   "cell_type": "markdown",
   "metadata": {},
   "source": [
    "# CSC 369 2.0 Machine Learning Assignment\n",
    "---"
   ]
  },
  {
   "cell_type": "markdown",
   "metadata": {},
   "source": [
    "## Table of Contents\n",
    "\n",
    "1. #### <a href=\"#Import-of-Libraries\">Import of Libraries</a>\n",
    "2. #### <a href=\"#File-Loading-and-Pre-Processing\">File loading and Pre-Processing</a>\n",
    "    * <a href=\"#Checking-for-Missing-Data-in-the-Input-Column\">Label conversion to Numericals</a>\n",
    "    * <a href=\"#Checking-for-Missing-Data-in-the-Input-Column\">Checking for Missing Data</a>\n",
    "    * <a href=\"#Split-of-Features-&-Labels\">Split of Features & Labels</a>\n",
    "    * <a href=\"#Outlier-Detection\">Outlier Detection</a>\n",
    "    * <a href=\"#Handling-Missing-Data-&-One-Hot-Encoding-(Coding-of-Discrete-inputs)\">Handling Missing Data & One Hot Encoding (Coding of Discrete inputs)</a>\n",
    "    * <a href=\"#Feature-Extraction\">Feature Extraction</a>\n",
    "    * <a href=\"#Normalize-Data-Based-on-L1\">Normalization</a>\n",
    "    \n",
    "    \n",
    "3. #### <a href=\"#KNN-Model-using-SKLearn\">KNN Model using SKLearn</a>\n",
    "    * <a href=\"#KNN-Model-Training\">Model Training</a>\n",
    "    * <a href=\"#KNN-Validation\">Validation</a>\n",
    "    * <a href=“#KNN-Post-Training-Analysis”>Post Training Analysis</a>\n",
    "        * <a href=\"#KNN-Accuracy-Score\">Accuracy Score</a>\n",
    "        * <a href=\"#KNN-Confusion-Matrix\">Confusion Matrix</a>\n",
    "        * <a href=\"#KNN-Classification-Report\">Classification Report</a>\n",
    "            * Precision\n",
    "            * Recall\n",
    "            * F-Measure\n",
    "        * <a href=\"#Variation-of-K-Neighbor-Classifier-for-Data-WITH-OUTLIERS\">Variation of K Neighbor Classifier</a>\n",
    "            * <a href=\"#Variation-of-K-Neighbor-Classifier-for-Data-WITH-OUTLIERS\">With Outliers</a>\n",
    "            * <a href=\"#Variation-of-K-Neighbor-Classifier-for-Data-WITHOUT-OUTLIERS\">Without Outliers</a>\n",
    "            \n",
    "            \n",
    "4. #### <a href=\"#Logistic-Regression-using-Keras\">Logistic Regression using Keras</a>\n",
    "    * <a href=\"#LR---Model-Creation-and-Model-Training-based-on-Early-Stopping-CallBack\">Model Training and Validation</a>\n",
    "    * <a href=“#Post-Training-Analysis---Logisitic-Regression”>Post Training Analysis</a>\n",
    "        * <a href=\"#Accuracy-Score----LR\">Accuracy Score</a>\n",
    "        * <a href=\"#Confusion-Matrix---LR\">Confusion Matrix</a>\n",
    "        * <a href=\"#Classification-Report---LR\">Classification Report</a>\n",
    "             * Precision\n",
    "             * Recall\n",
    "             * F-Measure\n",
    "\n",
    "\n",
    "5. #### <a href=\"#Neural-Network-using-Keras\">Neural Network using Keras</a>\n",
    "    * <a href=\"#Neural-Network-Model-Creation-and-Model-Training-based-on-Early-Stopping-CallBack\">Model Training and Validation</a>\n",
    "    * <a href=\"#Post-Training-Analysis---NN\">Post Training Analysis</a>\n",
    "        * <a href=\"#Accuracy-Score----NN\">Accuracy Score</a>\n",
    "        * <a href=\"#Confusion-Matrix----NN\">Confusion Matrix</a>\n",
    "        * <a href=\"#Classification-Report----NN\">Classification Report</a>\n",
    "            * Precision\n",
    "            * Recall\n",
    "            * F-Measure\n",
    "            \n",
    "            \n",
    "            \n",
    "\n",
    "\n",
    "---\n"
   ]
  },
  {
   "cell_type": "markdown",
   "metadata": {},
   "source": [
    "1. ## Import of Libraries\n",
    "---"
   ]
  },
  {
   "cell_type": "code",
   "execution_count": 294,
   "metadata": {},
   "outputs": [],
   "source": [
    "#importing required libraries\n",
    "import numpy as np\n",
    "import pandas as pd\n",
    "from sklearn import preprocessing, cross_validation, neighbors\n",
    "from sklearn.cross_validation import train_test_split\n",
    "import sklearn.feature_selection\n",
    "from sklearn.metrics import accuracy_score\n",
    "from sklearn.metrics import confusion_matrix\n",
    "from sklearn.metrics import classification_report\n",
    "import matplotlib.pyplot as plt"
   ]
  },
  {
   "cell_type": "markdown",
   "metadata": {},
   "source": [
    "2. ## File Loading and Pre Processing\n",
    "---"
   ]
  },
  {
   "cell_type": "code",
   "execution_count": 295,
   "metadata": {},
   "outputs": [],
   "source": [
    "#loading the data file\n",
    "# sep='\\s*,\\s*' was added to avoid spaces. Engine = python was used to support the s* special characters\n",
    "df = pd.read_csv('salary.csv',sep='\\s*,\\s*',engine='python')"
   ]
  },
  {
   "cell_type": "markdown",
   "metadata": {},
   "source": [
    "* ### Checking for Missing Data in the Input Column\n",
    "<br> Since the value is 0 (No missing values), we can convert the categorical data in the column to numerical values directly."
   ]
  },
  {
   "cell_type": "code",
   "execution_count": 296,
   "metadata": {},
   "outputs": [
    {
     "data": {
      "text/plain": [
       "0"
      ]
     },
     "execution_count": 296,
     "metadata": {},
     "output_type": "execute_result"
    }
   ],
   "source": [
    "#Checking for any misssing data \n",
    "df['income'].isnull().sum()"
   ]
  },
  {
   "cell_type": "code",
   "execution_count": 297,
   "metadata": {},
   "outputs": [],
   "source": [
    "#Since there are No missing data labels, will be converted to numeric values\n",
    "# <=50K Converted 0 and else 1 \n",
    "df['income'] = [0 if x =='<=50K' else 1 for x in df['income']]"
   ]
  },
  {
   "cell_type": "code",
   "execution_count": 298,
   "metadata": {},
   "outputs": [
    {
     "name": "stdout",
     "output_type": "stream",
     "text": [
      "Value Counts :\n"
     ]
    },
    {
     "data": {
      "text/plain": [
       "0    24720\n",
       "1     7841\n",
       "Name: income, dtype: int64"
      ]
     },
     "execution_count": 298,
     "metadata": {},
     "output_type": "execute_result"
    }
   ],
   "source": [
    "#checking the count for the income types\n",
    "print('Value Counts :')\n",
    "df['income'].value_counts()"
   ]
  },
  {
   "cell_type": "code",
   "execution_count": 299,
   "metadata": {},
   "outputs": [
    {
     "name": "stdout",
     "output_type": "stream",
     "text": [
      "\n",
      "Income size :\n"
     ]
    },
    {
     "data": {
      "text/plain": [
       "32561"
      ]
     },
     "execution_count": 299,
     "metadata": {},
     "output_type": "execute_result"
    }
   ],
   "source": [
    "#Checking whether any unexpected changes has happened to the data set. Size has not changed, therefore can proceed.\n",
    "print('\\nIncome size :')\n",
    "df['income'].size"
   ]
  },
  {
   "cell_type": "markdown",
   "metadata": {},
   "source": [
    "* ### Split of Features & Labels "
   ]
  },
  {
   "cell_type": "code",
   "execution_count": 300,
   "metadata": {},
   "outputs": [],
   "source": [
    "#setting dataframes for the axis\n",
    "X = df.drop('income',1)\n",
    "Y = df.income"
   ]
  },
  {
   "cell_type": "markdown",
   "metadata": {},
   "source": [
    "* ### Outlier Detection\n",
    "<br> Inituitively a person who has a relatively *High Capital Gain* and a relatively *High Capital Loss* could probably earn greater than 50K and less than 50K respectively.\n",
    "\n",
    "<br> **Eg :** Having Jeff Bezos's (World's richest person) in the data set can manipulate the output.\n",
    "\n",
    "<br> Therefore relatively *High Capital Gain* and a relatively *High Capital Loss* rows are dropped from the Dataset."
   ]
  },
  {
   "cell_type": "markdown",
   "metadata": {},
   "source": [
    "> ### Special Note <br>\n",
    "The df2 dataframe is created below as a duplicate of df since when the training is done, accuracies will be checked with and withoutout outliers since the outlier features are selected on a user a perspective and it can be subjected to change.\n"
   ]
  },
  {
   "cell_type": "code",
   "execution_count": 301,
   "metadata": {},
   "outputs": [],
   "source": [
    "#prepare a seperate dataframe for outlier detection\n",
    "df2 = pd.read_csv('salary.csv',sep='\\s*,\\s*',engine='python')\n",
    "df2['income'] = [0 if x =='<=50K' else 1 for x in df2['income']]\n",
    "\n",
    "#outliers using Quatile Range function\n",
    "def find_outliers_tukey(x):\n",
    "\tq1 = np.percentile(x,25)\n",
    "\tq3 = np.percentile(x,75)\n",
    "\tiqr= q3-q1\n",
    "\n",
    "\tfloor = q1-1.5*iqr\n",
    "\tceiling = q3 +1.5*iqr\n",
    "\n",
    "\toutlier_indices = list(x.index[(x<floor) | (x > ceiling)])\n",
    "\toutlier_values = list(x[outlier_indices])\n",
    "\treturn outlier_indices,outlier_values\n",
    "    \n",
    "#Index and Values of the Capital Gain Outliers\n",
    "tukey_indices, tukey_values = find_outliers_tukey(df2['capital-gain'])\n",
    "\n",
    "#Drop the outliers from the Dataframe\n",
    "for x in tukey_indices:\n",
    "    df2 = df2.drop(x,0)\n",
    "\n",
    "#setting dataframes for the axis\n",
    "X_OD = df2.drop('income',1)\n",
    "Y_OD = df2.income\n",
    "\n",
    "#Index and Values of the Capital Loss Outliers\n",
    "tukey_indices, tukey_values = find_outliers_tukey(df2['capital-loss'])\n",
    "\n",
    "#Drop the outliers from the Dataframe\n",
    "for x in tukey_indices:\n",
    "    df2 = df2.drop(x,0)\n",
    "\n",
    "#setting dataframes for the axis\n",
    "X_OD = df2.drop('income',1)\n",
    "Y_OD = df2.income"
   ]
  },
  {
   "cell_type": "markdown",
   "metadata": {},
   "source": [
    "* ### Handling Missing Data & One Hot Encoding (Coding of Discrete inputs)"
   ]
  },
  {
   "cell_type": "code",
   "execution_count": 302,
   "metadata": {},
   "outputs": [],
   "source": [
    "#One Hot Encoding the Feature List to Numerical Values\n",
    "#Feature list with Non Numerical Values\n",
    "todummy_list = ['workclass', 'education', 'marital-status','occupation', 'relationship', 'race', 'sex','native-country']"
   ]
  },
  {
   "cell_type": "code",
   "execution_count": 303,
   "metadata": {},
   "outputs": [],
   "source": [
    "#function for conversion\n",
    "def dummy_df(df,todummy_list):\n",
    "\tfor x in todummy_list:\n",
    "\t\tdummies = pd.get_dummies(df[x],prefix=x,dummy_na=False)\n",
    "\t\tdf = df.drop(x,1)\n",
    "\t\tdf = pd.concat([df,dummies],axis=1)\n",
    "\n",
    "\treturn df"
   ]
  },
  {
   "cell_type": "code",
   "execution_count": 304,
   "metadata": {},
   "outputs": [],
   "source": [
    "#converting the non numerical values to one hot encoded values\n",
    "X = dummy_df(X, todummy_list)\n",
    "#Doing so Empty values were converted to 0s\n",
    "\n",
    "#converting the Outlier detected set\n",
    "X_OD = dummy_df(X_OD, todummy_list)"
   ]
  },
  {
   "cell_type": "code",
   "execution_count": 305,
   "metadata": {},
   "outputs": [
    {
     "data": {
      "text/html": [
       "<div>\n",
       "<style scoped>\n",
       "    .dataframe tbody tr th:only-of-type {\n",
       "        vertical-align: middle;\n",
       "    }\n",
       "\n",
       "    .dataframe tbody tr th {\n",
       "        vertical-align: top;\n",
       "    }\n",
       "\n",
       "    .dataframe thead th {\n",
       "        text-align: right;\n",
       "    }\n",
       "</style>\n",
       "<table border=\"1\" class=\"dataframe\">\n",
       "  <thead>\n",
       "    <tr style=\"text-align: right;\">\n",
       "      <th></th>\n",
       "      <th>age</th>\n",
       "      <th>education-num</th>\n",
       "      <th>capital-gain</th>\n",
       "      <th>capital-loss</th>\n",
       "      <th>hours-per-week</th>\n",
       "      <th>workclass_Federal-gov</th>\n",
       "      <th>workclass_Local-gov</th>\n",
       "      <th>workclass_Never-worked</th>\n",
       "      <th>workclass_Private</th>\n",
       "      <th>workclass_Self-emp-inc</th>\n",
       "      <th>...</th>\n",
       "      <th>native-country_Portugal</th>\n",
       "      <th>native-country_Puerto-Rico</th>\n",
       "      <th>native-country_Scotland</th>\n",
       "      <th>native-country_South</th>\n",
       "      <th>native-country_Taiwan</th>\n",
       "      <th>native-country_Thailand</th>\n",
       "      <th>native-country_Trinadad&amp;Tobago</th>\n",
       "      <th>native-country_United-States</th>\n",
       "      <th>native-country_Vietnam</th>\n",
       "      <th>native-country_Yugoslavia</th>\n",
       "    </tr>\n",
       "  </thead>\n",
       "  <tbody>\n",
       "    <tr>\n",
       "      <th>0</th>\n",
       "      <td>39</td>\n",
       "      <td>13</td>\n",
       "      <td>2174</td>\n",
       "      <td>0</td>\n",
       "      <td>40</td>\n",
       "      <td>0</td>\n",
       "      <td>0</td>\n",
       "      <td>0</td>\n",
       "      <td>0</td>\n",
       "      <td>0</td>\n",
       "      <td>...</td>\n",
       "      <td>0</td>\n",
       "      <td>0</td>\n",
       "      <td>0</td>\n",
       "      <td>0</td>\n",
       "      <td>0</td>\n",
       "      <td>0</td>\n",
       "      <td>0</td>\n",
       "      <td>1</td>\n",
       "      <td>0</td>\n",
       "      <td>0</td>\n",
       "    </tr>\n",
       "    <tr>\n",
       "      <th>1</th>\n",
       "      <td>50</td>\n",
       "      <td>13</td>\n",
       "      <td>0</td>\n",
       "      <td>0</td>\n",
       "      <td>13</td>\n",
       "      <td>0</td>\n",
       "      <td>0</td>\n",
       "      <td>0</td>\n",
       "      <td>0</td>\n",
       "      <td>0</td>\n",
       "      <td>...</td>\n",
       "      <td>0</td>\n",
       "      <td>0</td>\n",
       "      <td>0</td>\n",
       "      <td>0</td>\n",
       "      <td>0</td>\n",
       "      <td>0</td>\n",
       "      <td>0</td>\n",
       "      <td>1</td>\n",
       "      <td>0</td>\n",
       "      <td>0</td>\n",
       "    </tr>\n",
       "    <tr>\n",
       "      <th>2</th>\n",
       "      <td>38</td>\n",
       "      <td>9</td>\n",
       "      <td>0</td>\n",
       "      <td>0</td>\n",
       "      <td>40</td>\n",
       "      <td>0</td>\n",
       "      <td>0</td>\n",
       "      <td>0</td>\n",
       "      <td>1</td>\n",
       "      <td>0</td>\n",
       "      <td>...</td>\n",
       "      <td>0</td>\n",
       "      <td>0</td>\n",
       "      <td>0</td>\n",
       "      <td>0</td>\n",
       "      <td>0</td>\n",
       "      <td>0</td>\n",
       "      <td>0</td>\n",
       "      <td>1</td>\n",
       "      <td>0</td>\n",
       "      <td>0</td>\n",
       "    </tr>\n",
       "    <tr>\n",
       "      <th>3</th>\n",
       "      <td>53</td>\n",
       "      <td>7</td>\n",
       "      <td>0</td>\n",
       "      <td>0</td>\n",
       "      <td>40</td>\n",
       "      <td>0</td>\n",
       "      <td>0</td>\n",
       "      <td>0</td>\n",
       "      <td>1</td>\n",
       "      <td>0</td>\n",
       "      <td>...</td>\n",
       "      <td>0</td>\n",
       "      <td>0</td>\n",
       "      <td>0</td>\n",
       "      <td>0</td>\n",
       "      <td>0</td>\n",
       "      <td>0</td>\n",
       "      <td>0</td>\n",
       "      <td>1</td>\n",
       "      <td>0</td>\n",
       "      <td>0</td>\n",
       "    </tr>\n",
       "    <tr>\n",
       "      <th>4</th>\n",
       "      <td>28</td>\n",
       "      <td>13</td>\n",
       "      <td>0</td>\n",
       "      <td>0</td>\n",
       "      <td>40</td>\n",
       "      <td>0</td>\n",
       "      <td>0</td>\n",
       "      <td>0</td>\n",
       "      <td>1</td>\n",
       "      <td>0</td>\n",
       "      <td>...</td>\n",
       "      <td>0</td>\n",
       "      <td>0</td>\n",
       "      <td>0</td>\n",
       "      <td>0</td>\n",
       "      <td>0</td>\n",
       "      <td>0</td>\n",
       "      <td>0</td>\n",
       "      <td>0</td>\n",
       "      <td>0</td>\n",
       "      <td>0</td>\n",
       "    </tr>\n",
       "  </tbody>\n",
       "</table>\n",
       "<p>5 rows × 104 columns</p>\n",
       "</div>"
      ],
      "text/plain": [
       "   age  education-num  capital-gain  capital-loss  hours-per-week  \\\n",
       "0   39             13          2174             0              40   \n",
       "1   50             13             0             0              13   \n",
       "2   38              9             0             0              40   \n",
       "3   53              7             0             0              40   \n",
       "4   28             13             0             0              40   \n",
       "\n",
       "   workclass_Federal-gov  workclass_Local-gov  workclass_Never-worked  \\\n",
       "0                      0                    0                       0   \n",
       "1                      0                    0                       0   \n",
       "2                      0                    0                       0   \n",
       "3                      0                    0                       0   \n",
       "4                      0                    0                       0   \n",
       "\n",
       "   workclass_Private  workclass_Self-emp-inc            ...              \\\n",
       "0                  0                       0            ...               \n",
       "1                  0                       0            ...               \n",
       "2                  1                       0            ...               \n",
       "3                  1                       0            ...               \n",
       "4                  1                       0            ...               \n",
       "\n",
       "   native-country_Portugal  native-country_Puerto-Rico  \\\n",
       "0                        0                           0   \n",
       "1                        0                           0   \n",
       "2                        0                           0   \n",
       "3                        0                           0   \n",
       "4                        0                           0   \n",
       "\n",
       "   native-country_Scotland  native-country_South  native-country_Taiwan  \\\n",
       "0                        0                     0                      0   \n",
       "1                        0                     0                      0   \n",
       "2                        0                     0                      0   \n",
       "3                        0                     0                      0   \n",
       "4                        0                     0                      0   \n",
       "\n",
       "   native-country_Thailand  native-country_Trinadad&Tobago  \\\n",
       "0                        0                               0   \n",
       "1                        0                               0   \n",
       "2                        0                               0   \n",
       "3                        0                               0   \n",
       "4                        0                               0   \n",
       "\n",
       "   native-country_United-States  native-country_Vietnam  \\\n",
       "0                             1                       0   \n",
       "1                             1                       0   \n",
       "2                             1                       0   \n",
       "3                             1                       0   \n",
       "4                             0                       0   \n",
       "\n",
       "   native-country_Yugoslavia  \n",
       "0                          0  \n",
       "1                          0  \n",
       "2                          0  \n",
       "3                          0  \n",
       "4                          0  \n",
       "\n",
       "[5 rows x 104 columns]"
      ]
     },
     "execution_count": 305,
     "metadata": {},
     "output_type": "execute_result"
    }
   ],
   "source": [
    "#View the X\n",
    "X.head(5)"
   ]
  },
  {
   "cell_type": "code",
   "execution_count": 306,
   "metadata": {},
   "outputs": [
    {
     "data": {
      "text/html": [
       "<div>\n",
       "<style scoped>\n",
       "    .dataframe tbody tr th:only-of-type {\n",
       "        vertical-align: middle;\n",
       "    }\n",
       "\n",
       "    .dataframe tbody tr th {\n",
       "        vertical-align: top;\n",
       "    }\n",
       "\n",
       "    .dataframe thead th {\n",
       "        text-align: right;\n",
       "    }\n",
       "</style>\n",
       "<table border=\"1\" class=\"dataframe\">\n",
       "  <thead>\n",
       "    <tr style=\"text-align: right;\">\n",
       "      <th></th>\n",
       "      <th>age</th>\n",
       "      <th>education-num</th>\n",
       "      <th>capital-gain</th>\n",
       "      <th>capital-loss</th>\n",
       "      <th>hours-per-week</th>\n",
       "      <th>workclass_Federal-gov</th>\n",
       "      <th>workclass_Local-gov</th>\n",
       "      <th>workclass_Never-worked</th>\n",
       "      <th>workclass_Private</th>\n",
       "      <th>workclass_Self-emp-inc</th>\n",
       "      <th>...</th>\n",
       "      <th>native-country_Portugal</th>\n",
       "      <th>native-country_Puerto-Rico</th>\n",
       "      <th>native-country_Scotland</th>\n",
       "      <th>native-country_South</th>\n",
       "      <th>native-country_Taiwan</th>\n",
       "      <th>native-country_Thailand</th>\n",
       "      <th>native-country_Trinadad&amp;Tobago</th>\n",
       "      <th>native-country_United-States</th>\n",
       "      <th>native-country_Vietnam</th>\n",
       "      <th>native-country_Yugoslavia</th>\n",
       "    </tr>\n",
       "  </thead>\n",
       "  <tbody>\n",
       "    <tr>\n",
       "      <th>1</th>\n",
       "      <td>50</td>\n",
       "      <td>13</td>\n",
       "      <td>0</td>\n",
       "      <td>0</td>\n",
       "      <td>13</td>\n",
       "      <td>0</td>\n",
       "      <td>0</td>\n",
       "      <td>0</td>\n",
       "      <td>0</td>\n",
       "      <td>0</td>\n",
       "      <td>...</td>\n",
       "      <td>0</td>\n",
       "      <td>0</td>\n",
       "      <td>0</td>\n",
       "      <td>0</td>\n",
       "      <td>0</td>\n",
       "      <td>0</td>\n",
       "      <td>0</td>\n",
       "      <td>1</td>\n",
       "      <td>0</td>\n",
       "      <td>0</td>\n",
       "    </tr>\n",
       "    <tr>\n",
       "      <th>2</th>\n",
       "      <td>38</td>\n",
       "      <td>9</td>\n",
       "      <td>0</td>\n",
       "      <td>0</td>\n",
       "      <td>40</td>\n",
       "      <td>0</td>\n",
       "      <td>0</td>\n",
       "      <td>0</td>\n",
       "      <td>1</td>\n",
       "      <td>0</td>\n",
       "      <td>...</td>\n",
       "      <td>0</td>\n",
       "      <td>0</td>\n",
       "      <td>0</td>\n",
       "      <td>0</td>\n",
       "      <td>0</td>\n",
       "      <td>0</td>\n",
       "      <td>0</td>\n",
       "      <td>1</td>\n",
       "      <td>0</td>\n",
       "      <td>0</td>\n",
       "    </tr>\n",
       "    <tr>\n",
       "      <th>3</th>\n",
       "      <td>53</td>\n",
       "      <td>7</td>\n",
       "      <td>0</td>\n",
       "      <td>0</td>\n",
       "      <td>40</td>\n",
       "      <td>0</td>\n",
       "      <td>0</td>\n",
       "      <td>0</td>\n",
       "      <td>1</td>\n",
       "      <td>0</td>\n",
       "      <td>...</td>\n",
       "      <td>0</td>\n",
       "      <td>0</td>\n",
       "      <td>0</td>\n",
       "      <td>0</td>\n",
       "      <td>0</td>\n",
       "      <td>0</td>\n",
       "      <td>0</td>\n",
       "      <td>1</td>\n",
       "      <td>0</td>\n",
       "      <td>0</td>\n",
       "    </tr>\n",
       "    <tr>\n",
       "      <th>4</th>\n",
       "      <td>28</td>\n",
       "      <td>13</td>\n",
       "      <td>0</td>\n",
       "      <td>0</td>\n",
       "      <td>40</td>\n",
       "      <td>0</td>\n",
       "      <td>0</td>\n",
       "      <td>0</td>\n",
       "      <td>1</td>\n",
       "      <td>0</td>\n",
       "      <td>...</td>\n",
       "      <td>0</td>\n",
       "      <td>0</td>\n",
       "      <td>0</td>\n",
       "      <td>0</td>\n",
       "      <td>0</td>\n",
       "      <td>0</td>\n",
       "      <td>0</td>\n",
       "      <td>0</td>\n",
       "      <td>0</td>\n",
       "      <td>0</td>\n",
       "    </tr>\n",
       "    <tr>\n",
       "      <th>5</th>\n",
       "      <td>37</td>\n",
       "      <td>14</td>\n",
       "      <td>0</td>\n",
       "      <td>0</td>\n",
       "      <td>40</td>\n",
       "      <td>0</td>\n",
       "      <td>0</td>\n",
       "      <td>0</td>\n",
       "      <td>1</td>\n",
       "      <td>0</td>\n",
       "      <td>...</td>\n",
       "      <td>0</td>\n",
       "      <td>0</td>\n",
       "      <td>0</td>\n",
       "      <td>0</td>\n",
       "      <td>0</td>\n",
       "      <td>0</td>\n",
       "      <td>0</td>\n",
       "      <td>1</td>\n",
       "      <td>0</td>\n",
       "      <td>0</td>\n",
       "    </tr>\n",
       "  </tbody>\n",
       "</table>\n",
       "<p>5 rows × 103 columns</p>\n",
       "</div>"
      ],
      "text/plain": [
       "   age  education-num  capital-gain  capital-loss  hours-per-week  \\\n",
       "1   50             13             0             0              13   \n",
       "2   38              9             0             0              40   \n",
       "3   53              7             0             0              40   \n",
       "4   28             13             0             0              40   \n",
       "5   37             14             0             0              40   \n",
       "\n",
       "   workclass_Federal-gov  workclass_Local-gov  workclass_Never-worked  \\\n",
       "1                      0                    0                       0   \n",
       "2                      0                    0                       0   \n",
       "3                      0                    0                       0   \n",
       "4                      0                    0                       0   \n",
       "5                      0                    0                       0   \n",
       "\n",
       "   workclass_Private  workclass_Self-emp-inc            ...              \\\n",
       "1                  0                       0            ...               \n",
       "2                  1                       0            ...               \n",
       "3                  1                       0            ...               \n",
       "4                  1                       0            ...               \n",
       "5                  1                       0            ...               \n",
       "\n",
       "   native-country_Portugal  native-country_Puerto-Rico  \\\n",
       "1                        0                           0   \n",
       "2                        0                           0   \n",
       "3                        0                           0   \n",
       "4                        0                           0   \n",
       "5                        0                           0   \n",
       "\n",
       "   native-country_Scotland  native-country_South  native-country_Taiwan  \\\n",
       "1                        0                     0                      0   \n",
       "2                        0                     0                      0   \n",
       "3                        0                     0                      0   \n",
       "4                        0                     0                      0   \n",
       "5                        0                     0                      0   \n",
       "\n",
       "   native-country_Thailand  native-country_Trinadad&Tobago  \\\n",
       "1                        0                               0   \n",
       "2                        0                               0   \n",
       "3                        0                               0   \n",
       "4                        0                               0   \n",
       "5                        0                               0   \n",
       "\n",
       "   native-country_United-States  native-country_Vietnam  \\\n",
       "1                             1                       0   \n",
       "2                             1                       0   \n",
       "3                             1                       0   \n",
       "4                             0                       0   \n",
       "5                             1                       0   \n",
       "\n",
       "   native-country_Yugoslavia  \n",
       "1                          0  \n",
       "2                          0  \n",
       "3                          0  \n",
       "4                          0  \n",
       "5                          0  \n",
       "\n",
       "[5 rows x 103 columns]"
      ]
     },
     "execution_count": 306,
     "metadata": {},
     "output_type": "execute_result"
    }
   ],
   "source": [
    "#View the Outliear detected One Hot Encoded X\n",
    "X_OD.head(5)"
   ]
  },
  {
   "cell_type": "code",
   "execution_count": null,
   "metadata": {},
   "outputs": [],
   "source": [
    "\n"
   ]
  },
  {
   "cell_type": "markdown",
   "metadata": {},
   "source": [
    "> ### Special Note <br>\n",
    "The reason to have data stored one with outliear and other without outliears is because when the training is done, accuracies will be checked with and withoutout outliers. Since the outlier features are **selected on a user a perspective and it can be subjected to change.**\n"
   ]
  },
  {
   "cell_type": "code",
   "execution_count": 307,
   "metadata": {},
   "outputs": [],
   "source": [
    "#Splitting the Non Outliear Detected data\n",
    "X_train, X_test, Y_train, Y_test = train_test_split(X,Y,train_size=0.7,random_state=1)\n",
    "\n",
    "#Splitting the Outliear Detected data\n",
    "X_OD_train, X_OD_test, Y_OD_train, Y_OD_test = train_test_split(X_OD,Y_OD,train_size=0.7,random_state=1)"
   ]
  },
  {
   "cell_type": "markdown",
   "metadata": {},
   "source": [
    "* ### Feature Extraction"
   ]
  },
  {
   "cell_type": "code",
   "execution_count": 308,
   "metadata": {},
   "outputs": [
    {
     "name": "stderr",
     "output_type": "stream",
     "text": [
      "/anaconda3/envs/tensorflowsessions/lib/python3.6/site-packages/sklearn/feature_selection/univariate_selection.py:113: UserWarning: Features [77] are constant.\n",
      "  UserWarning)\n",
      "/anaconda3/envs/tensorflowsessions/lib/python3.6/site-packages/sklearn/feature_selection/univariate_selection.py:114: RuntimeWarning: invalid value encountered in true_divide\n",
      "  f = msb / msw\n",
      "/anaconda3/envs/tensorflowsessions/lib/python3.6/site-packages/sklearn/feature_selection/univariate_selection.py:113: UserWarning: Features [2 3] are constant.\n",
      "  UserWarning)\n"
     ]
    }
   ],
   "source": [
    "#Feature selection\n",
    "\n",
    "#Selecting the K = 20 Best features for the data with Outliers\n",
    "select = sklearn.feature_selection.SelectKBest(k=20)\n",
    "selected_features = select.fit(X_train,Y_train)\n",
    "indices_selected = selected_features.get_support(indices=True)\n",
    "colnames_selected = [X.columns[i] for i in indices_selected]\n",
    "\n",
    "X_train_selected = X_train[colnames_selected]\n",
    "X_test_selected  = X_test[colnames_selected]\n",
    "\n",
    "#Selecting the K = 20 Best features for the data WITHOUT Outliers\n",
    "selectOD = sklearn.feature_selection.SelectKBest(k=20)\n",
    "selected_ODfeatures = select.fit(X_OD_train,Y_OD_train)\n",
    "indices_ODselected = selected_features.get_support(indices=True)\n",
    "colnames_ODselected = [X_OD.columns[i] for i in indices_selected]\n",
    "\n",
    "X_OD_train_selected = X_OD_train[colnames_ODselected]\n",
    "X_OD_test_selected  = X_OD_test[colnames_ODselected]"
   ]
  },
  {
   "cell_type": "markdown",
   "metadata": {},
   "source": [
    "* ### Normalize Data Based on L1"
   ]
  },
  {
   "cell_type": "code",
   "execution_count": 309,
   "metadata": {},
   "outputs": [],
   "source": [
    "# Normalize the data with Outliers\n",
    "X_train_selected_Normalized = preprocessing.normalize(X_train_selected,norm='l1')\n",
    "X_test_selected_Normalized = preprocessing.normalize(X_test_selected,norm='l1')\n",
    "\n",
    "# Normalize the data without Outliers\n",
    "X_OD_train_selected_Normalized = preprocessing.normalize(X_OD_train_selected,norm='l1')\n",
    "X_OD_test_selected_Normalized = preprocessing.normalize(X_OD_test_selected,norm='l1')"
   ]
  },
  {
   "cell_type": "markdown",
   "metadata": {},
   "source": [
    "> #### By this stage all Pre Processing stages have been completed."
   ]
  },
  {
   "cell_type": "markdown",
   "metadata": {},
   "source": [
    "3. ## KNN Model using SKLearn\n",
    "---"
   ]
  },
  {
   "cell_type": "markdown",
   "metadata": {},
   "source": [
    "* ### KNN Model Training"
   ]
  },
  {
   "cell_type": "code",
   "execution_count": 310,
   "metadata": {},
   "outputs": [
    {
     "data": {
      "text/plain": [
       "KNeighborsClassifier(algorithm='auto', leaf_size=30, metric='minkowski',\n",
       "           metric_params=None, n_jobs=1, n_neighbors=5, p=2,\n",
       "           weights='uniform')"
      ]
     },
     "execution_count": 310,
     "metadata": {},
     "output_type": "execute_result"
    }
   ],
   "source": [
    "#Training the Model with Outliers\n",
    "clf = neighbors.KNeighborsClassifier(n_neighbors=5)\n",
    "clf.fit(X_train_selected_Normalized,Y_train)\n",
    "\n",
    "#Training the Model without Outliers\n",
    "clf_OD = neighbors.KNeighborsClassifier(n_neighbors=5)\n",
    "clf_OD.fit(X_OD_train_selected_Normalized,Y_OD_train)\n",
    "\n",
    "#clf.fit(X_train_selected,Y_train)\n",
    "#accuracy_train = clf.score(X_train_selected,Y_train)\n",
    "#accuracy_test = clf.score(X_test_selected,Y_test)\n"
   ]
  },
  {
   "cell_type": "code",
   "execution_count": 311,
   "metadata": {},
   "outputs": [],
   "source": [
    "#accuracy with outliers\n",
    "accuracy_train = clf.score(X_train_selected_Normalized,Y_train)\n",
    "accuracy_test = clf.score(X_test_selected_Normalized,Y_test)\n",
    "\n",
    "#accuracy without outliears\n",
    "accuracy_OD_train = clf_OD.score(X_OD_train_selected_Normalized,Y_OD_train)\n",
    "accuracy_OD_test = clf_OD.score(X_OD_test_selected_Normalized,Y_OD_test)"
   ]
  },
  {
   "cell_type": "markdown",
   "metadata": {},
   "source": [
    "* ### KNN Validation"
   ]
  },
  {
   "cell_type": "code",
   "execution_count": 312,
   "metadata": {},
   "outputs": [
    {
     "name": "stdout",
     "output_type": "stream",
     "text": [
      "Accuracy on Training Set with Outliers : 86.583%\n",
      "Accuracy on Test Set  with Outliers  : 82.547% \n",
      "\n",
      "Accuracy on Training Set without Outliers : 86.768%\n",
      "Accuracy on Test Set  without Outliers  : 82.280%\n"
     ]
    }
   ],
   "source": [
    "print('Accuracy on Training Set with Outliers : %.3f%%' %(accuracy_train*100))\n",
    "print('Accuracy on Test Set  with Outliers  : %.3f%% \\n' %(accuracy_test*100))\n",
    "\n",
    "print('Accuracy on Training Set without Outliers : %.3f%%' %(accuracy_OD_train*100))\n",
    "print('Accuracy on Test Set  without Outliers  : %.3f%%' %(accuracy_OD_test*100))\n"
   ]
  },
  {
   "cell_type": "markdown",
   "metadata": {},
   "source": [
    "* ### KNN Post Training Analysis\n"
   ]
  },
  {
   "cell_type": "markdown",
   "metadata": {},
   "source": [
    "- ### KNN Accuracy Score"
   ]
  },
  {
   "cell_type": "code",
   "execution_count": 313,
   "metadata": {},
   "outputs": [],
   "source": [
    "#with Outliear data\n",
    "Y_predicted = clf.predict(X_test_selected_Normalized)\n",
    "\n",
    "#without Outliear data\n",
    "Y_OD_predicted = clf.predict(X_OD_test_selected_Normalized)"
   ]
  },
  {
   "cell_type": "code",
   "execution_count": 314,
   "metadata": {},
   "outputs": [],
   "source": [
    "#predicted with outliers\n",
    "ac = accuracy_score(Y_test, Y_predicted)\n",
    "\n",
    "#predicted without Outliears\n",
    "ac_OD = accuracy_score(Y_OD_test, Y_OD_predicted)"
   ]
  },
  {
   "cell_type": "code",
   "execution_count": 315,
   "metadata": {},
   "outputs": [
    {
     "name": "stdout",
     "output_type": "stream",
     "text": [
      "Accuracy based on the Prediction with Outliers : 82.546832% \n",
      "\n",
      "Accuracy based on the Prediction without Outliers : 85.210025%\n"
     ]
    }
   ],
   "source": [
    "print('Accuracy based on the Prediction with Outliers : %f%% \\n'%(ac*100))\n",
    "print('Accuracy based on the Prediction without Outliers : %f%%'%(ac_OD*100))"
   ]
  },
  {
   "cell_type": "markdown",
   "metadata": {},
   "source": [
    "- ### KNN Confusion Matrix"
   ]
  },
  {
   "cell_type": "code",
   "execution_count": 316,
   "metadata": {},
   "outputs": [
    {
     "data": {
      "text/plain": [
       "array([[6812,  738],\n",
       "       [ 967, 1252]])"
      ]
     },
     "execution_count": 316,
     "metadata": {},
     "output_type": "execute_result"
    }
   ],
   "source": [
    "#with Outliers\n",
    "confusion_matrix(Y_test, Y_predicted)\n",
    "\n"
   ]
  },
  {
   "cell_type": "code",
   "execution_count": 317,
   "metadata": {},
   "outputs": [
    {
     "data": {
      "text/plain": [
       "array([[6380,  469],\n",
       "       [ 788,  862]])"
      ]
     },
     "execution_count": 317,
     "metadata": {},
     "output_type": "execute_result"
    }
   ],
   "source": [
    "#without Outliers\n",
    "confusion_matrix(Y_OD_test, Y_OD_predicted)"
   ]
  },
  {
   "cell_type": "markdown",
   "metadata": {},
   "source": [
    "- ### KNN Classification Report"
   ]
  },
  {
   "cell_type": "code",
   "execution_count": 318,
   "metadata": {},
   "outputs": [
    {
     "name": "stdout",
     "output_type": "stream",
     "text": [
      "             precision    recall  f1-score   support\n",
      "\n",
      "          0       0.88      0.90      0.89      7550\n",
      "          1       0.63      0.56      0.59      2219\n",
      "\n",
      "avg / total       0.82      0.83      0.82      9769\n",
      "\n"
     ]
    }
   ],
   "source": [
    "#with outliers\n",
    "print(classification_report(Y_test, Y_predicted))"
   ]
  },
  {
   "cell_type": "code",
   "execution_count": 319,
   "metadata": {},
   "outputs": [
    {
     "name": "stdout",
     "output_type": "stream",
     "text": [
      "             precision    recall  f1-score   support\n",
      "\n",
      "          0       0.89      0.93      0.91      6849\n",
      "          1       0.65      0.52      0.58      1650\n",
      "\n",
      "avg / total       0.84      0.85      0.85      8499\n",
      "\n"
     ]
    }
   ],
   "source": [
    "#without outliers\n",
    "print(classification_report(Y_OD_test, Y_OD_predicted))"
   ]
  },
  {
   "cell_type": "markdown",
   "metadata": {},
   "source": [
    "- ### Variation of K Neighbor Classifier for Data WITH OUTLIERS"
   ]
  },
  {
   "cell_type": "code",
   "execution_count": 320,
   "metadata": {},
   "outputs": [
    {
     "data": {
      "text/plain": [
       "<matplotlib.legend.Legend at 0x1a1f6ba550>"
      ]
     },
     "execution_count": 320,
     "metadata": {},
     "output_type": "execute_result"
    },
    {
     "data": {
      "image/png": "[encoded data removed]",
      "text/plain": [
       "<Figure size 432x288 with 1 Axes>"
      ]
     },
     "metadata": {},
     "output_type": "display_data"
    }
   ],
   "source": [
    "# Create two lists for training and test accuracies with Outliers\n",
    "training_accuracy = []\n",
    "test_accuracy = []\n",
    "max_value = 0\n",
    "# Define a range of 1 to 10 (included) neighbors to be tested\n",
    "neighbors_settings = range(1,20)\n",
    "\n",
    "# Loop with the KNN through the different number of neighbors to determine the most appropriate (best)\n",
    "for n_neighbors in neighbors_settings:\n",
    "    #with Outliers\n",
    "    clf2 = neighbors.KNeighborsClassifier(n_neighbors=n_neighbors)\n",
    "    clf2.fit(X_train_selected_Normalized, Y_train)\n",
    "    training_accuracy.append(clf2.score(X_train_selected_Normalized, Y_train))\n",
    "    \n",
    "    test_accuracy.append(clf2.score(X_test_selected_Normalized, Y_test))\n",
    "    \n",
    "# Visualize results - to help with deciding which n_neigbors yields the best results \n",
    "plt.plot(neighbors_settings, training_accuracy, label='Accuracy of the training set with Outliers')\n",
    "plt.plot(neighbors_settings, test_accuracy, label='Accuracy of the test set with Outliers')\n",
    "\n",
    "plt.ylabel('Accuracy')\n",
    "plt.xlabel('Number of Neighbors')\n",
    "plt.legend()"
   ]
  },
  {
   "cell_type": "code",
   "execution_count": null,
   "metadata": {},
   "outputs": [],
   "source": []
  },
  {
   "cell_type": "markdown",
   "metadata": {},
   "source": [
    "- ### Variation of K Neighbor Classifier for Data WITHOUT OUTLIERS"
   ]
  },
  {
   "cell_type": "code",
   "execution_count": 321,
   "metadata": {},
   "outputs": [
    {
     "data": {
      "text/plain": [
       "<matplotlib.legend.Legend at 0x1a1f78a080>"
      ]
     },
     "execution_count": 321,
     "metadata": {},
     "output_type": "execute_result"
    },
    {
     "data": {
      "image/png": "[encoded data removed]",
      "text/plain": [
       "<Figure size 432x288 with 1 Axes>"
      ]
     },
     "metadata": {},
     "output_type": "display_data"
    }
   ],
   "source": [
    "# Create two lists for training and test accuracies withOUT Outliers\n",
    "training_OD_accuracy = []\n",
    "test_OD_accuracy = []\n",
    "\n",
    "# Define a range of 1 to 10 (included) neighbors to be tested\n",
    "neighbors_settings = range(1,20)\n",
    "\n",
    "# Loop with the KNN through the different number of neighbors to determine the most appropriate (best)\n",
    "for n_neighbors in neighbors_settings:\n",
    "    #without Outliers\n",
    "    clf2_OD = neighbors.KNeighborsClassifier(n_neighbors=n_neighbors)\n",
    "    clf2_OD.fit(X_OD_train_selected_Normalized, Y_OD_train)\n",
    "    training_OD_accuracy.append(clf2_OD.score(X_OD_train_selected_Normalized, Y_OD_train))\n",
    "    test_OD_accuracy.append(clf2.score(X_OD_test_selected_Normalized, Y_OD_test))\n",
    "    \n",
    "# Visualize results - to help with deciding which n_neigbors yields the best results \n",
    "\n",
    "plt.plot(neighbors_settings, training_OD_accuracy, label='Accuracy of the training set without Outliers')\n",
    "plt.plot(neighbors_settings, test_OD_accuracy, label='Accuracy of the test set without Outliers')\n",
    "plt.ylabel('Accuracy')\n",
    "plt.xlabel('Number of Neighbors')\n",
    "plt.legend()"
   ]
  },
  {
   "cell_type": "markdown",
   "metadata": {},
   "source": [
    "4. ## Logistic Regression using Keras"
   ]
  },
  {
   "cell_type": "code",
   "execution_count": 322,
   "metadata": {},
   "outputs": [],
   "source": [
    "#importing required Keras Libraries\n",
    "from keras.models import Sequential\n",
    "from keras.layers import Dense\n",
    "from keras.callbacks import EarlyStopping"
   ]
  },
  {
   "cell_type": "markdown",
   "metadata": {},
   "source": [
    "> ### LR - Model Creation and Model Training based on Early Stopping CallBack \n",
    "> ### Using Early Stopping **<u>Overfitting</u>** can be avoided"
   ]
  },
  {
   "cell_type": "code",
   "execution_count": 323,
   "metadata": {},
   "outputs": [],
   "source": [
    "#To train with outliers\n",
    "model = Sequential()\n",
    "model.add(Dense(1, input_dim=20, activation='sigmoid'))\n",
    "\n",
    "#To train without outliers\n",
    "model_OD = Sequential()\n",
    "model_OD.add(Dense(1, input_dim=20, activation='sigmoid'))\n",
    "\n",
    "#The 2 models will be identical, used just to train them seperately."
   ]
  },
  {
   "cell_type": "code",
   "execution_count": 324,
   "metadata": {},
   "outputs": [],
   "source": [
    "#compile the model\n",
    "model.compile(loss='binary_crossentropy', optimizer='sgd', metrics=['accuracy'])\n",
    "model_OD.compile(loss='binary_crossentropy', optimizer='sgd', metrics=['accuracy'])"
   ]
  },
  {
   "cell_type": "code",
   "execution_count": 325,
   "metadata": {},
   "outputs": [
    {
     "name": "stdout",
     "output_type": "stream",
     "text": [
      "Train on 22792 samples, validate on 9769 samples\n",
      "Epoch 1/1000\n",
      "22792/22792 [==============================] - 1s 57us/step - loss: 0.6403 - acc: 0.6928 - val_loss: 0.5801 - val_acc: 0.7729\n",
      "Epoch 2/1000\n",
      "22792/22792 [==============================] - 1s 30us/step - loss: 0.5695 - acc: 0.7533 - val_loss: 0.5407 - val_acc: 0.7729\n",
      "Epoch 3/1000\n",
      "22792/22792 [==============================] - 1s 31us/step - loss: 0.5492 - acc: 0.7533 - val_loss: 0.5267 - val_acc: 0.7729\n",
      "Epoch 4/1000\n",
      "22792/22792 [==============================] - 1s 29us/step - loss: 0.5417 - acc: 0.7533 - val_loss: 0.5204 - val_acc: 0.7729\n",
      "Epoch 5/1000\n",
      "22792/22792 [==============================] - 1s 30us/step - loss: 0.5378 - acc: 0.7533 - val_loss: 0.5167 - val_acc: 0.7729\n",
      "Epoch 6/1000\n",
      "22792/22792 [==============================] - 1s 30us/step - loss: 0.5353 - acc: 0.7533 - val_loss: 0.5142 - val_acc: 0.7729\n",
      "Epoch 7/1000\n",
      "22792/22792 [==============================] - 1s 30us/step - loss: 0.5332 - acc: 0.7533 - val_loss: 0.5122 - val_acc: 0.7729\n",
      "Epoch 8/1000\n",
      "22792/22792 [==============================] - 1s 31us/step - loss: 0.5315 - acc: 0.7533 - val_loss: 0.5105 - val_acc: 0.7729\n",
      "Epoch 9/1000\n",
      "22792/22792 [==============================] - 1s 31us/step - loss: 0.5299 - acc: 0.7533 - val_loss: 0.5092 - val_acc: 0.7729\n",
      "Epoch 10/1000\n",
      "22792/22792 [==============================] - 1s 30us/step - loss: 0.5285 - acc: 0.7533 - val_loss: 0.5079 - val_acc: 0.7729\n",
      "Epoch 11/1000\n",
      "22792/22792 [==============================] - 1s 31us/step - loss: 0.5273 - acc: 0.7533 - val_loss: 0.5068 - val_acc: 0.7729\n",
      "Epoch 12/1000\n",
      "22792/22792 [==============================] - 1s 31us/step - loss: 0.5262 - acc: 0.7533 - val_loss: 0.5059 - val_acc: 0.7729\n",
      "Epoch 13/1000\n",
      "22792/22792 [==============================] - 1s 30us/step - loss: 0.5251 - acc: 0.7533 - val_loss: 0.5050 - val_acc: 0.7729\n",
      "Epoch 14/1000\n",
      "22792/22792 [==============================] - 1s 28us/step - loss: 0.5242 - acc: 0.7533 - val_loss: 0.5043 - val_acc: 0.7729\n",
      "Epoch 15/1000\n",
      "22792/22792 [==============================] - 1s 30us/step - loss: 0.5234 - acc: 0.7533 - val_loss: 0.5036 - val_acc: 0.7729\n",
      "Epoch 16/1000\n",
      "22792/22792 [==============================] - 1s 30us/step - loss: 0.5227 - acc: 0.7533 - val_loss: 0.5029 - val_acc: 0.7729\n",
      "Epoch 17/1000\n",
      "22792/22792 [==============================] - 1s 30us/step - loss: 0.5220 - acc: 0.7533 - val_loss: 0.5024 - val_acc: 0.7729\n",
      "Epoch 18/1000\n",
      "22792/22792 [==============================] - 1s 30us/step - loss: 0.5214 - acc: 0.7814 - val_loss: 0.5019 - val_acc: 0.8068\n",
      "Epoch 19/1000\n",
      "22792/22792 [==============================] - 1s 30us/step - loss: 0.5209 - acc: 0.7851 - val_loss: 0.5014 - val_acc: 0.7941\n",
      "Epoch 20/1000\n",
      "22792/22792 [==============================] - 1s 32us/step - loss: 0.5204 - acc: 0.7789 - val_loss: 0.5010 - val_acc: 0.7904\n",
      "Epoch 21/1000\n",
      "22792/22792 [==============================] - 1s 30us/step - loss: 0.5199 - acc: 0.7773 - val_loss: 0.5007 - val_acc: 0.7891\n",
      "Epoch 22/1000\n",
      "22792/22792 [==============================] - 1s 30us/step - loss: 0.5195 - acc: 0.7761 - val_loss: 0.5004 - val_acc: 0.7885\n",
      "Epoch 23/1000\n",
      "22792/22792 [==============================] - 1s 29us/step - loss: 0.5192 - acc: 0.7758 - val_loss: 0.5001 - val_acc: 0.7882\n",
      "Epoch 24/1000\n",
      "22792/22792 [==============================] - 1s 30us/step - loss: 0.5188 - acc: 0.7757 - val_loss: 0.4998 - val_acc: 0.7878\n",
      "Epoch 25/1000\n",
      "22792/22792 [==============================] - 1s 31us/step - loss: 0.5185 - acc: 0.7756 - val_loss: 0.4996 - val_acc: 0.7878\n",
      "Epoch 26/1000\n",
      "22792/22792 [==============================] - 1s 30us/step - loss: 0.5183 - acc: 0.7756 - val_loss: 0.4994 - val_acc: 0.7877\n",
      "Epoch 27/1000\n",
      "22792/22792 [==============================] - 1s 31us/step - loss: 0.5180 - acc: 0.7755 - val_loss: 0.4992 - val_acc: 0.7877\n",
      "Epoch 28/1000\n",
      "22792/22792 [==============================] - 1s 31us/step - loss: 0.5178 - acc: 0.7755 - val_loss: 0.4990 - val_acc: 0.7877\n",
      "Epoch 29/1000\n",
      "22792/22792 [==============================] - 1s 28us/step - loss: 0.5176 - acc: 0.7755 - val_loss: 0.4989 - val_acc: 0.7877\n",
      "Epoch 00029: early stopping\n"
     ]
    },
    {
     "data": {
      "text/plain": [
       "<keras.callbacks.History at 0x1a2211a3c8>"
      ]
     },
     "execution_count": 325,
     "metadata": {},
     "output_type": "execute_result"
    }
   ],
   "source": [
    "#early stopping\n",
    "monitor = EarlyStopping(monitor = 'val_loss',min_delta=1e-3,patience=5,verbose=1,mode='auto')\n",
    "\n",
    "#fit the model with Outliers\n",
    "model.fit(X_train_selected_Normalized,Y_train,epochs=1000,batch_size=100, validation_data=(X_test_selected_Normalized, Y_test),callbacks=[monitor])"
   ]
  },
  {
   "cell_type": "code",
   "execution_count": 326,
   "metadata": {},
   "outputs": [
    {
     "name": "stdout",
     "output_type": "stream",
     "text": [
      "Train on 19831 samples, validate on 8499 samples\n",
      "Epoch 1/1000\n",
      "19831/19831 [==============================] - 1s 53us/step - loss: 0.6015 - acc: 0.8069 - val_loss: 0.5494 - val_acc: 0.8059\n",
      "Epoch 2/1000\n",
      "19831/19831 [==============================] - 1s 32us/step - loss: 0.5224 - acc: 0.8114 - val_loss: 0.5116 - val_acc: 0.8059\n",
      "Epoch 3/1000\n",
      "19831/19831 [==============================] - 1s 32us/step - loss: 0.4987 - acc: 0.8114 - val_loss: 0.4995 - val_acc: 0.8059\n",
      "Epoch 4/1000\n",
      "19831/19831 [==============================] - 1s 29us/step - loss: 0.4904 - acc: 0.8114 - val_loss: 0.4953 - val_acc: 0.8059\n",
      "Epoch 5/1000\n",
      "19831/19831 [==============================] - 1s 32us/step - loss: 0.4873 - acc: 0.8114 - val_loss: 0.4939 - val_acc: 0.8059\n",
      "Epoch 6/1000\n",
      "19831/19831 [==============================] - 1s 31us/step - loss: 0.4861 - acc: 0.8114 - val_loss: 0.4933 - val_acc: 0.8059\n",
      "Epoch 7/1000\n",
      "19831/19831 [==============================] - 1s 32us/step - loss: 0.4856 - acc: 0.8114 - val_loss: 0.4932 - val_acc: 0.8059\n",
      "Epoch 8/1000\n",
      "19831/19831 [==============================] - 1s 31us/step - loss: 0.4854 - acc: 0.8114 - val_loss: 0.4931 - val_acc: 0.8059\n",
      "Epoch 9/1000\n",
      "19831/19831 [==============================] - 1s 30us/step - loss: 0.4852 - acc: 0.8114 - val_loss: 0.4931 - val_acc: 0.8059\n",
      "Epoch 10/1000\n",
      "19831/19831 [==============================] - 1s 30us/step - loss: 0.4852 - acc: 0.8114 - val_loss: 0.4931 - val_acc: 0.8059\n",
      "Epoch 00010: early stopping\n"
     ]
    },
    {
     "data": {
      "text/plain": [
       "<keras.callbacks.History at 0x1a1f781ef0>"
      ]
     },
     "execution_count": 326,
     "metadata": {},
     "output_type": "execute_result"
    }
   ],
   "source": [
    "#fit the model with Outliers\n",
    "model_OD.fit(X_OD_train_selected_Normalized,Y_OD_train,epochs=1000,batch_size=100, validation_data=(X_OD_test_selected_Normalized, Y_OD_test),callbacks=[monitor])"
   ]
  },
  {
   "cell_type": "code",
   "execution_count": null,
   "metadata": {},
   "outputs": [],
   "source": []
  },
  {
   "cell_type": "markdown",
   "metadata": {},
   "source": [
    "* ### Post Training Analysis - Logisitic Regression"
   ]
  },
  {
   "cell_type": "code",
   "execution_count": 327,
   "metadata": {},
   "outputs": [],
   "source": [
    "#This generates the probability with Outliers\n",
    "Y_predicted = model.predict(X_test_selected_Normalized)\n",
    "#This generate the final classes with Outliers\n",
    "Y_predicted2 = model.predict_classes(X_test_selected_Normalized)\n",
    "\n",
    "#This generates the probability with Outliers\n",
    "Y_OD_predicted = model_OD.predict(X_OD_test_selected_Normalized)\n",
    "#This generate the final classes with Outliers\n",
    "Y_OD_predicted2 = model_OD.predict_classes(X_OD_test_selected_Normalized)"
   ]
  },
  {
   "cell_type": "code",
   "execution_count": null,
   "metadata": {},
   "outputs": [],
   "source": []
  },
  {
   "cell_type": "markdown",
   "metadata": {},
   "source": [
    "- ### Accuracy Score  - LR"
   ]
  },
  {
   "cell_type": "code",
   "execution_count": 328,
   "metadata": {},
   "outputs": [],
   "source": [
    "#accuracy score with outliers\n",
    "acc = accuracy_score(Y_test, Y_predicted2)\n",
    "#accuracy score without outliers\n",
    "acc_OD = accuracy_score(Y_OD_test, Y_OD_predicted2)\n"
   ]
  },
  {
   "cell_type": "code",
   "execution_count": 329,
   "metadata": {},
   "outputs": [
    {
     "name": "stdout",
     "output_type": "stream",
     "text": [
      "Accuracy Score with Outliers : 79%\n",
      "\n",
      "Accuracy Score without Outliers : 81%\n",
      "\n"
     ]
    }
   ],
   "source": [
    "print('Accuracy Score with Outliers : %.f%%\\n'%(acc*100))\n",
    "print('Accuracy Score without Outliers : %.f%%\\n'%(acc_OD*100))"
   ]
  },
  {
   "cell_type": "markdown",
   "metadata": {},
   "source": [
    "- ### Confusion Matrix - LR"
   ]
  },
  {
   "cell_type": "code",
   "execution_count": 330,
   "metadata": {},
   "outputs": [
    {
     "data": {
      "text/plain": [
       "array([[7234,  316],\n",
       "       [1758,  461]])"
      ]
     },
     "execution_count": 330,
     "metadata": {},
     "output_type": "execute_result"
    }
   ],
   "source": [
    "#confusion matrix with Outliers\n",
    "confusion_matrix(Y_test, Y_predicted2)"
   ]
  },
  {
   "cell_type": "code",
   "execution_count": 331,
   "metadata": {},
   "outputs": [
    {
     "data": {
      "text/plain": [
       "array([[6849,    0],\n",
       "       [1650,    0]])"
      ]
     },
     "execution_count": 331,
     "metadata": {},
     "output_type": "execute_result"
    }
   ],
   "source": [
    "#confusion matrix without Outliers\n",
    "confusion_matrix(Y_OD_test, Y_OD_predicted2)"
   ]
  },
  {
   "cell_type": "markdown",
   "metadata": {},
   "source": [
    "- ### Classification Report - LR"
   ]
  },
  {
   "cell_type": "code",
   "execution_count": 332,
   "metadata": {},
   "outputs": [
    {
     "name": "stdout",
     "output_type": "stream",
     "text": [
      "             precision    recall  f1-score   support\n",
      "\n",
      "          0       0.80      0.96      0.87      7550\n",
      "          1       0.59      0.21      0.31      2219\n",
      "\n",
      "avg / total       0.76      0.79      0.75      9769\n",
      "\n"
     ]
    }
   ],
   "source": [
    "#with outliers\n",
    "print(classification_report(Y_test, Y_predicted2))"
   ]
  },
  {
   "cell_type": "code",
   "execution_count": 333,
   "metadata": {},
   "outputs": [
    {
     "name": "stdout",
     "output_type": "stream",
     "text": [
      "             precision    recall  f1-score   support\n",
      "\n",
      "          0       0.81      1.00      0.89      6849\n",
      "          1       0.00      0.00      0.00      1650\n",
      "\n",
      "avg / total       0.65      0.81      0.72      8499\n",
      "\n"
     ]
    },
    {
     "name": "stderr",
     "output_type": "stream",
     "text": [
      "/anaconda3/envs/tensorflowsessions/lib/python3.6/site-packages/sklearn/metrics/classification.py:1135: UndefinedMetricWarning: Precision and F-score are ill-defined and being set to 0.0 in labels with no predicted samples.\n",
      "  'precision', 'predicted', average, warn_for)\n"
     ]
    }
   ],
   "source": [
    "#withOUT outliers\n",
    "print(classification_report(Y_OD_test, Y_OD_predicted2))"
   ]
  },
  {
   "cell_type": "code",
   "execution_count": null,
   "metadata": {},
   "outputs": [],
   "source": []
  },
  {
   "cell_type": "markdown",
   "metadata": {},
   "source": [
    "5. ## Neural Network using Keras\n"
   ]
  },
  {
   "cell_type": "markdown",
   "metadata": {},
   "source": [
    "> ### Neural Network Model Creation and Model Training based on Early Stopping CallBack \n",
    "> ### Using Early Stopping **<u>Overfitting</u>** can be avoided"
   ]
  },
  {
   "cell_type": "code",
   "execution_count": 334,
   "metadata": {},
   "outputs": [],
   "source": [
    "#Model to train with outliers\n",
    "model = Sequential()\n",
    "model.add(Dense(30, input_dim=20, activation='relu'))\n",
    "model.add(Dense(10))\n",
    "model.add(Dense(1,activation='sigmoid'))\n",
    "\n",
    "#Model to train withOUT outliers\n",
    "model_OD = Sequential()\n",
    "model_OD.add(Dense(30, input_dim=20, activation='relu'))\n",
    "model_OD.add(Dense(10))\n",
    "model_OD.add(Dense(1,activation='sigmoid'))"
   ]
  },
  {
   "cell_type": "code",
   "execution_count": 335,
   "metadata": {},
   "outputs": [],
   "source": [
    "#compile the model\n",
    "model.compile(loss='binary_crossentropy', optimizer='sgd', metrics=['accuracy'])\n",
    "model_OD.compile(loss='binary_crossentropy', optimizer='sgd', metrics=['accuracy'])"
   ]
  },
  {
   "cell_type": "code",
   "execution_count": 336,
   "metadata": {},
   "outputs": [
    {
     "name": "stdout",
     "output_type": "stream",
     "text": [
      "Train on 22792 samples, validate on 9769 samples\n",
      "Epoch 1/1000\n",
      "22792/22792 [==============================] - 1s 58us/step - loss: 0.5863 - acc: 0.7278 - val_loss: 0.5294 - val_acc: 0.7729\n",
      "Epoch 2/1000\n",
      "22792/22792 [==============================] - 1s 31us/step - loss: 0.5439 - acc: 0.7533 - val_loss: 0.5195 - val_acc: 0.7729\n",
      "Epoch 3/1000\n",
      "22792/22792 [==============================] - 1s 36us/step - loss: 0.5371 - acc: 0.7533 - val_loss: 0.5136 - val_acc: 0.7729\n",
      "Epoch 4/1000\n",
      "22792/22792 [==============================] - 1s 36us/step - loss: 0.5311 - acc: 0.7533 - val_loss: 0.5086 - val_acc: 0.7729\n",
      "Epoch 5/1000\n",
      "22792/22792 [==============================] - 1s 36us/step - loss: 0.5264 - acc: 0.7533 - val_loss: 0.5051 - val_acc: 0.7729\n",
      "Epoch 6/1000\n",
      "22792/22792 [==============================] - 1s 36us/step - loss: 0.5230 - acc: 0.7693 - val_loss: 0.5025 - val_acc: 0.7902\n",
      "Epoch 7/1000\n",
      "22792/22792 [==============================] - 1s 36us/step - loss: 0.5205 - acc: 0.7759 - val_loss: 0.5003 - val_acc: 0.7878\n",
      "Epoch 8/1000\n",
      "22792/22792 [==============================] - 1s 36us/step - loss: 0.5190 - acc: 0.7754 - val_loss: 0.4997 - val_acc: 0.7877\n",
      "Epoch 9/1000\n",
      "22792/22792 [==============================] - 1s 35us/step - loss: 0.5178 - acc: 0.7754 - val_loss: 0.4989 - val_acc: 0.7877\n",
      "Epoch 10/1000\n",
      "22792/22792 [==============================] - 1s 36us/step - loss: 0.5171 - acc: 0.7754 - val_loss: 0.4983 - val_acc: 0.7877\n",
      "Epoch 11/1000\n",
      "22792/22792 [==============================] - 1s 36us/step - loss: 0.5166 - acc: 0.7754 - val_loss: 0.4977 - val_acc: 0.7877\n",
      "Epoch 12/1000\n",
      "22792/22792 [==============================] - 1s 36us/step - loss: 0.5162 - acc: 0.7754 - val_loss: 0.4981 - val_acc: 0.7877\n",
      "Epoch 13/1000\n",
      "22792/22792 [==============================] - 1s 37us/step - loss: 0.5160 - acc: 0.7754 - val_loss: 0.4973 - val_acc: 0.7877\n",
      "Epoch 14/1000\n",
      "22792/22792 [==============================] - 1s 36us/step - loss: 0.5159 - acc: 0.7754 - val_loss: 0.4974 - val_acc: 0.7877\n",
      "Epoch 15/1000\n",
      "22792/22792 [==============================] - 1s 36us/step - loss: 0.5158 - acc: 0.7754 - val_loss: 0.4974 - val_acc: 0.7877\n",
      "Epoch 16/1000\n",
      "22792/22792 [==============================] - 1s 37us/step - loss: 0.5157 - acc: 0.7754 - val_loss: 0.4974 - val_acc: 0.7877\n",
      "Epoch 00016: early stopping\n"
     ]
    },
    {
     "data": {
      "text/plain": [
       "<keras.callbacks.History at 0x1a0f5fbac8>"
      ]
     },
     "execution_count": 336,
     "metadata": {},
     "output_type": "execute_result"
    }
   ],
   "source": [
    "#add early stopping\n",
    "monitor = EarlyStopping(monitor = 'val_loss',min_delta=1e-3,patience=5,verbose=1,mode='auto')\n",
    "\n",
    "#fit the model with Outliers\n",
    "model.fit(X_train_selected_Normalized,Y_train,epochs=1000,batch_size=100, validation_data=(X_test_selected_Normalized, Y_test),callbacks=[monitor],)"
   ]
  },
  {
   "cell_type": "code",
   "execution_count": 337,
   "metadata": {},
   "outputs": [
    {
     "name": "stdout",
     "output_type": "stream",
     "text": [
      "Train on 19831 samples, validate on 8499 samples\n",
      "Epoch 1/1000\n",
      "19831/19831 [==============================] - 1s 61us/step - loss: 0.5400 - acc: 0.8099 - val_loss: 0.4962 - val_acc: 0.8059\n",
      "Epoch 2/1000\n",
      "19831/19831 [==============================] - 1s 36us/step - loss: 0.4856 - acc: 0.8114 - val_loss: 0.4917 - val_acc: 0.8059\n",
      "Epoch 3/1000\n",
      "19831/19831 [==============================] - 1s 37us/step - loss: 0.4839 - acc: 0.8114 - val_loss: 0.4917 - val_acc: 0.8059\n",
      "Epoch 4/1000\n",
      "19831/19831 [==============================] - 1s 35us/step - loss: 0.4838 - acc: 0.8114 - val_loss: 0.4915 - val_acc: 0.8059\n",
      "Epoch 5/1000\n",
      "19831/19831 [==============================] - 1s 36us/step - loss: 0.4838 - acc: 0.8114 - val_loss: 0.4915 - val_acc: 0.8059\n",
      "Epoch 6/1000\n",
      "19831/19831 [==============================] - 1s 41us/step - loss: 0.4837 - acc: 0.8114 - val_loss: 0.4915 - val_acc: 0.8059\n",
      "Epoch 7/1000\n",
      "19831/19831 [==============================] - 1s 38us/step - loss: 0.4837 - acc: 0.8114 - val_loss: 0.4915 - val_acc: 0.8059\n",
      "Epoch 00007: early stopping\n"
     ]
    },
    {
     "data": {
      "text/plain": [
       "<keras.callbacks.History at 0x1a33a84cc0>"
      ]
     },
     "execution_count": 337,
     "metadata": {},
     "output_type": "execute_result"
    }
   ],
   "source": [
    "#fit the model withOUT Outliers\n",
    "model_OD.fit(X_OD_train_selected_Normalized,Y_OD_train,epochs=1000,batch_size=100, validation_data=(X_OD_test_selected_Normalized, Y_OD_test),callbacks=[monitor],)"
   ]
  },
  {
   "cell_type": "code",
   "execution_count": null,
   "metadata": {},
   "outputs": [],
   "source": []
  },
  {
   "cell_type": "markdown",
   "metadata": {},
   "source": [
    "* ### Post Training Analysis - NN"
   ]
  },
  {
   "cell_type": "code",
   "execution_count": 338,
   "metadata": {},
   "outputs": [],
   "source": [
    "#This generates the probability with Outliers\n",
    "Y_predicted = model.predict(X_test_selected_Normalized)\n",
    "#This generate the final classes with Outliers\n",
    "Y_predicted2 = model.predict_classes(X_test_selected_Normalized)\n",
    "\n",
    "#This generates the probability with Outliers\n",
    "Y_OD_predicted = model_OD.predict(X_OD_test_selected_Normalized)\n",
    "#This generate the final classes with Outliers\n",
    "Y_OD_predicted2 = model_OD.predict_classes(X_OD_test_selected_Normalized)"
   ]
  },
  {
   "cell_type": "code",
   "execution_count": null,
   "metadata": {},
   "outputs": [],
   "source": []
  },
  {
   "cell_type": "markdown",
   "metadata": {},
   "source": [
    "- ### Accuracy Score  - NN"
   ]
  },
  {
   "cell_type": "code",
   "execution_count": 339,
   "metadata": {},
   "outputs": [],
   "source": [
    "#accuracy score with outliers\n",
    "acc = accuracy_score(Y_test, Y_predicted2)\n",
    "#accuracy score without outliers\n",
    "acc_OD = accuracy_score(Y_OD_test, Y_OD_predicted2)\n"
   ]
  },
  {
   "cell_type": "code",
   "execution_count": 340,
   "metadata": {},
   "outputs": [
    {
     "name": "stdout",
     "output_type": "stream",
     "text": [
      "Accuracy Score with Outliers : 79%\n",
      "\n",
      "Accuracy Score without Outliers : 81%\n",
      "\n"
     ]
    }
   ],
   "source": [
    "print('Accuracy Score with Outliers : %.f%%\\n'%(acc*100))\n",
    "print('Accuracy Score without Outliers : %.f%%\\n'%(acc_OD*100))"
   ]
  },
  {
   "cell_type": "markdown",
   "metadata": {},
   "source": [
    "- ### Confusion Matrix  - NN"
   ]
  },
  {
   "cell_type": "code",
   "execution_count": 341,
   "metadata": {},
   "outputs": [
    {
     "data": {
      "text/plain": [
       "array([[7234,  316],\n",
       "       [1758,  461]])"
      ]
     },
     "execution_count": 341,
     "metadata": {},
     "output_type": "execute_result"
    }
   ],
   "source": [
    "#confusion matrix with Outliers\n",
    "confusion_matrix(Y_test, Y_predicted2)"
   ]
  },
  {
   "cell_type": "code",
   "execution_count": 342,
   "metadata": {},
   "outputs": [
    {
     "data": {
      "text/plain": [
       "array([[6849,    0],\n",
       "       [1650,    0]])"
      ]
     },
     "execution_count": 342,
     "metadata": {},
     "output_type": "execute_result"
    }
   ],
   "source": [
    "#confusion matrix without Outliers\n",
    "confusion_matrix(Y_OD_test, Y_OD_predicted2)"
   ]
  },
  {
   "cell_type": "markdown",
   "metadata": {},
   "source": [
    "- ### Classification Report  - NN"
   ]
  },
  {
   "cell_type": "code",
   "execution_count": 343,
   "metadata": {},
   "outputs": [
    {
     "name": "stdout",
     "output_type": "stream",
     "text": [
      "             precision    recall  f1-score   support\n",
      "\n",
      "          0       0.80      0.96      0.87      7550\n",
      "          1       0.59      0.21      0.31      2219\n",
      "\n",
      "avg / total       0.76      0.79      0.75      9769\n",
      "\n"
     ]
    }
   ],
   "source": [
    "#with outliers\n",
    "print(classification_report(Y_test, Y_predicted2))"
   ]
  },
  {
   "cell_type": "code",
   "execution_count": 344,
   "metadata": {},
   "outputs": [
    {
     "name": "stdout",
     "output_type": "stream",
     "text": [
      "             precision    recall  f1-score   support\n",
      "\n",
      "          0       0.81      1.00      0.89      6849\n",
      "          1       0.00      0.00      0.00      1650\n",
      "\n",
      "avg / total       0.65      0.81      0.72      8499\n",
      "\n"
     ]
    },
    {
     "name": "stderr",
     "output_type": "stream",
     "text": [
      "/anaconda3/envs/tensorflowsessions/lib/python3.6/site-packages/sklearn/metrics/classification.py:1135: UndefinedMetricWarning: Precision and F-score are ill-defined and being set to 0.0 in labels with no predicted samples.\n",
      "  'precision', 'predicted', average, warn_for)\n"
     ]
    }
   ],
   "source": [
    "#withOUT outliers\n",
    "print(classification_report(Y_OD_test, Y_OD_predicted2))"
   ]
  },
  {
   "cell_type": "code",
   "execution_count": null,
   "metadata": {},
   "outputs": [],
   "source": []
  }
 ],
 "metadata": {
  "kernelspec": {
   "display_name": "Python 3",
   "language": "python",
   "name": "python3"
  },
  "language_info": {
   "codemirror_mode": {
    "name": "ipython",
    "version": 3
   },
   "file_extension": ".py",
   "mimetype": "text/x-python",
   "name": "python",
   "nbconvert_exporter": "python",
   "pygments_lexer": "ipython3",
   "version": "3.6.6"
  }
 },
 "nbformat": 4,
 "nbformat_minor": 2
}
